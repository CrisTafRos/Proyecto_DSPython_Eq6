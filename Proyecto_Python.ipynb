{
  "nbformat": 4,
  "nbformat_minor": 0,
  "metadata": {
    "colab": {
      "name": "Proyecto_Python.ipynb",
      "provenance": [],
      "include_colab_link": true
    },
    "kernelspec": {
      "name": "python3",
      "display_name": "Python 3"
    }
  },
  "cells": [
    {
      "cell_type": "markdown",
      "metadata": {
        "id": "view-in-github",
        "colab_type": "text"
      },
      "source": [
        "<a href=\"https://colab.research.google.com/github/CrisTafRos/Proyecto_DSPython_Eq6/blob/main/Proyecto_Python.ipynb\" target=\"_parent\"><img src=\"https://colab.research.google.com/assets/colab-badge.svg\" alt=\"Open In Colab\"/></a>"
      ]
    },
    {
      "cell_type": "markdown",
      "metadata": {
        "id": "m8eLmLBf7-j9"
      },
      "source": [
        "#Análisis de tenencias pagadas de 2008 al 2019\r\n",
        "\r\n",
        "Año con año, el titular de un automóvil tiene que hacer el pago respectivo a su tenencia.\r\n",
        "\r\n",
        "Estos pagos son registrados en un sistema al que solamente el área de finanzas puede acceder y únicamente compartió los montos, fechas y placas que realizaron los pagos.\r\n",
        "\r\n",
        "Como vemos, por el mismo origen de los datos es que tenemos muchos datos y errores de captura, pero podremos llegar a depurarlos.\r\n",
        "\r\n",
        "NOTA: Las placas utilizadas en este proyecto fueron intercambiadas con el objetivo de resguardar la información de los involucrados."
      ]
    },
    {
      "cell_type": "code",
      "metadata": {
        "id": "kWnOM1GY77Gw",
        "colab": {
          "base_uri": "https://localhost:8080/"
        },
        "outputId": "75b05c66-db98-4de7-93ca-0db12643defd"
      },
      "source": [
        "from google.colab import drive\r\n",
        "from google.colab import files\r\n",
        "drive.mount('/content/drive')"
      ],
      "execution_count": null,
      "outputs": [
        {
          "output_type": "stream",
          "text": [
            "Drive already mounted at /content/drive; to attempt to forcibly remount, call drive.mount(\"/content/drive\", force_remount=True).\n"
          ],
          "name": "stdout"
        }
      ]
    },
    {
      "cell_type": "code",
      "metadata": {
        "id": "DK-BPS6O_rAu"
      },
      "source": [
        "import pandas as pd\r\n",
        "import numpy as np\r\n",
        "import re"
      ],
      "execution_count": null,
      "outputs": []
    },
    {
      "cell_type": "code",
      "metadata": {
        "colab": {
          "base_uri": "https://localhost:8080/"
        },
        "id": "TZWbVciT_uyg",
        "outputId": "a7ff8f1a-a042-4a59-df06-ecce4910b7ea"
      },
      "source": [
        "pagos = pd.read_csv('/content/drive/MyDrive/Data_Tenencias/tenencias_autos.csv', sep = \"|\", error_bad_lines = False)"
      ],
      "execution_count": null,
      "outputs": [
        {
          "output_type": "stream",
          "text": [
            "b'Skipping line 52: expected 14 fields, saw 15\\nSkipping line 205: expected 14 fields, saw 16\\nSkipping line 250: expected 14 fields, saw 15\\nSkipping line 1930: expected 14 fields, saw 17\\nSkipping line 2258: expected 14 fields, saw 16\\nSkipping line 4944: expected 14 fields, saw 21\\nSkipping line 5252: expected 14 fields, saw 15\\nSkipping line 8104: expected 14 fields, saw 15\\nSkipping line 8144: expected 14 fields, saw 15\\nSkipping line 9165: expected 14 fields, saw 16\\nSkipping line 9166: expected 14 fields, saw 16\\nSkipping line 10617: expected 14 fields, saw 15\\nSkipping line 10866: expected 14 fields, saw 16\\nSkipping line 12851: expected 14 fields, saw 15\\nSkipping line 13263: expected 14 fields, saw 16\\nSkipping line 14929: expected 14 fields, saw 22\\nSkipping line 15321: expected 14 fields, saw 15\\nSkipping line 15326: expected 14 fields, saw 15\\nSkipping line 15388: expected 14 fields, saw 15\\nSkipping line 16446: expected 14 fields, saw 15\\nSkipping line 16546: expected 14 fields, saw 16\\nSkipping line 16887: expected 14 fields, saw 15\\nSkipping line 17639: expected 14 fields, saw 21\\nSkipping line 19237: expected 14 fields, saw 23\\nSkipping line 19548: expected 14 fields, saw 15\\nSkipping line 19761: expected 14 fields, saw 20\\nSkipping line 19856: expected 14 fields, saw 16\\nSkipping line 20788: expected 14 fields, saw 21\\nSkipping line 21233: expected 14 fields, saw 16\\nSkipping line 21235: expected 14 fields, saw 16\\nSkipping line 22771: expected 14 fields, saw 17\\nSkipping line 22913: expected 14 fields, saw 19\\nSkipping line 22917: expected 14 fields, saw 21\\nSkipping line 22918: expected 14 fields, saw 21\\nSkipping line 22922: expected 14 fields, saw 20\\nSkipping line 23085: expected 14 fields, saw 16\\nSkipping line 23378: expected 14 fields, saw 15\\nSkipping line 23471: expected 14 fields, saw 15\\nSkipping line 23556: expected 14 fields, saw 15\\nSkipping line 23960: expected 14 fields, saw 16\\nSkipping line 24540: expected 14 fields, saw 22\\nSkipping line 24839: expected 14 fields, saw 19\\nSkipping line 25945: expected 14 fields, saw 15\\nSkipping line 26787: expected 14 fields, saw 22\\nSkipping line 26802: expected 14 fields, saw 15\\nSkipping line 27738: expected 14 fields, saw 21\\nSkipping line 27851: expected 14 fields, saw 19\\nSkipping line 28337: expected 14 fields, saw 15\\nSkipping line 28395: expected 14 fields, saw 16\\nSkipping line 28911: expected 14 fields, saw 18\\nSkipping line 29315: expected 14 fields, saw 16\\nSkipping line 29934: expected 14 fields, saw 15\\nSkipping line 31203: expected 14 fields, saw 16\\nSkipping line 31562: expected 14 fields, saw 17\\nSkipping line 31665: expected 14 fields, saw 20\\n'\n"
          ],
          "name": "stderr"
        }
      ]
    },
    {
      "cell_type": "code",
      "metadata": {
        "colab": {
          "base_uri": "https://localhost:8080/"
        },
        "id": "ydkmMAjIOqbi",
        "outputId": "d208eb5a-301f-4634-c87f-ebd659303cba"
      },
      "source": [
        "from google.colab import drive\n",
        "drive.mount('/content/drive')"
      ],
      "execution_count": null,
      "outputs": [
        {
          "output_type": "stream",
          "text": [
            "Drive already mounted at /content/drive; to attempt to forcibly remount, call drive.mount(\"/content/drive\", force_remount=True).\n"
          ],
          "name": "stdout"
        }
      ]
    },
    {
      "cell_type": "code",
      "metadata": {
        "id": "OfErUDShAq1C"
      },
      "source": [
        "nombres_columnas = list(pagos.columns)\r\n",
        "placas = pd.DataFrame(pagos[\"Placa\"])"
      ],
      "execution_count": null,
      "outputs": []
    },
    {
      "cell_type": "markdown",
      "metadata": {
        "id": "C5GX2ZaxKLqf"
      },
      "source": [
        "Función para separar columnas de datos"
      ]
    },
    {
      "cell_type": "code",
      "metadata": {
        "id": "ht4jLXRtGRJN"
      },
      "source": [
        "def separando_data(columna, placas):\r\n",
        "  temp = columna.str.split(',', expand = True)\r\n",
        "  temp = temp.iloc[0:, 0:3] # Sin esto, me regresa pura basura :(\r\n",
        "  temp.columns = ['año_fiscal', 'monto_pagado', 'concepto']\r\n",
        "  temp = pd.concat([placas.reset_index(drop=True), temp], axis=1)\r\n",
        "  return temp"
      ],
      "execution_count": null,
      "outputs": []
    },
    {
      "cell_type": "code",
      "metadata": {
        "id": "rKY9pNZLH2_a"
      },
      "source": [
        "primer_pago = separando_data(pagos[nombres_columnas[1]], placas)\r\n",
        "segundo_pago = separando_data(pagos[nombres_columnas[2]], placas)\r\n",
        "tercer_pago = separando_data(pagos[nombres_columnas[3]], placas)\r\n",
        "cuarto_pago = separando_data(pagos[nombres_columnas[4]], placas)\r\n",
        "quinto_pago = separando_data(pagos[nombres_columnas[5]], placas)\r\n",
        "sexto_pago = separando_data(pagos[nombres_columnas[6]], placas)\r\n",
        "septimo_pago = separando_data(pagos[nombres_columnas[7]], placas)\r\n",
        "octavo_pago = separando_data(pagos[nombres_columnas[8]], placas)\r\n",
        "noveno_pago = separando_data(pagos[nombres_columnas[9]], placas)\r\n",
        "decimo_pago = separando_data(pagos[nombres_columnas[10]], placas)\r\n",
        "decimoprimer_pago = separando_data(pagos[nombres_columnas[11]], placas)\r\n",
        "decimosegun_pago = separando_data(pagos[nombres_columnas[12]], placas)\r\n",
        "decimotercer_pago = separando_data(pagos[nombres_columnas[13]], placas)"
      ],
      "execution_count": null,
      "outputs": []
    },
    {
      "cell_type": "code",
      "metadata": {
        "id": "Ed4fddZaQUKr"
      },
      "source": [
        "pagos_fin = pd.concat([primer_pago, segundo_pago, tercer_pago, cuarto_pago, quinto_pago, sexto_pago, septimo_pago, octavo_pago, noveno_pago, decimo_pago, decimoprimer_pago, decimosegun_pago, decimotercer_pago])"
      ],
      "execution_count": null,
      "outputs": []
    },
    {
      "cell_type": "code",
      "metadata": {
        "id": "ncFx-uQULokc"
      },
      "source": [
        "pagos_fin = pagos_fin.sort_values('Placa')\r\n",
        "pagos_fin"
      ],
      "execution_count": null,
      "outputs": []
    },
    {
      "cell_type": "markdown",
      "metadata": {
        "id": "dpA3O71wrQJF"
      },
      "source": [
        "Pasando todos los errores como si fuesen NaNs"
      ]
    },
    {
      "cell_type": "code",
      "metadata": {
        "id": "Szhv-VktrPLL"
      },
      "source": [
        "df = pagos_fin # Para no perderme, desde aquí mejor asigno todo a otra variable"
      ],
      "execution_count": null,
      "outputs": []
    },
    {
      "cell_type": "code",
      "metadata": {
        "id": "Jhm21rOEzBhR"
      },
      "source": [
        "df = df.replace('null', np.nan)\r\n",
        "df = df.replace('', np.nan)"
      ],
      "execution_count": null,
      "outputs": []
    },
    {
      "cell_type": "markdown",
      "metadata": {
        "id": "ZE3JodBSklRV"
      },
      "source": [
        "Quitando NaN"
      ]
    },
    {
      "cell_type": "code",
      "metadata": {
        "colab": {
          "base_uri": "https://localhost:8080/"
        },
        "id": "mkAXti4cOEGQ",
        "outputId": "ce917f34-32ad-4304-d59a-71d7a4ce8dfa"
      },
      "source": [
        "df.isna().sum()"
      ],
      "execution_count": null,
      "outputs": [
        {
          "output_type": "execute_result",
          "data": {
            "text/plain": [
              "Placa                0\n",
              "año_fiscal      203415\n",
              "monto_pagado    203415\n",
              "concepto        200490\n",
              "dtype: int64"
            ]
          },
          "metadata": {
            "tags": []
          },
          "execution_count": 15
        }
      ]
    },
    {
      "cell_type": "code",
      "metadata": {
        "id": "If8EDwpPHyPG",
        "colab": {
          "base_uri": "https://localhost:8080/",
          "height": 419
        },
        "outputId": "8e6baa3f-4049-4576-e730-db17db1f5416"
      },
      "source": [
        "df = df.dropna(axis = 0, how = 'any')\r\n",
        "df.reset_index(drop=True, inplace=True)\r\n",
        "df"
      ],
      "execution_count": null,
      "outputs": [
        {
          "output_type": "execute_result",
          "data": {
            "text/html": [
              "<div>\n",
              "<style scoped>\n",
              "    .dataframe tbody tr th:only-of-type {\n",
              "        vertical-align: middle;\n",
              "    }\n",
              "\n",
              "    .dataframe tbody tr th {\n",
              "        vertical-align: top;\n",
              "    }\n",
              "\n",
              "    .dataframe thead th {\n",
              "        text-align: right;\n",
              "    }\n",
              "</style>\n",
              "<table border=\"1\" class=\"dataframe\">\n",
              "  <thead>\n",
              "    <tr style=\"text-align: right;\">\n",
              "      <th></th>\n",
              "      <th>Placa</th>\n",
              "      <th>año_fiscal</th>\n",
              "      <th>monto_pagado</th>\n",
              "      <th>concepto</th>\n",
              "    </tr>\n",
              "  </thead>\n",
              "  <tbody>\n",
              "    <tr>\n",
              "      <th>0</th>\n",
              "      <td>000AA</td>\n",
              "      <td>2017</td>\n",
              "      <td>1465</td>\n",
              "      <td>38</td>\n",
              "    </tr>\n",
              "    <tr>\n",
              "      <th>1</th>\n",
              "      <td>000AA</td>\n",
              "      <td>2016</td>\n",
              "      <td>1408</td>\n",
              "      <td>38</td>\n",
              "    </tr>\n",
              "    <tr>\n",
              "      <th>2</th>\n",
              "      <td>000AA</td>\n",
              "      <td>2014</td>\n",
              "      <td>1314</td>\n",
              "      <td>38</td>\n",
              "    </tr>\n",
              "    <tr>\n",
              "      <th>3</th>\n",
              "      <td>000AA</td>\n",
              "      <td>2013</td>\n",
              "      <td>1266</td>\n",
              "      <td>38</td>\n",
              "    </tr>\n",
              "    <tr>\n",
              "      <th>4</th>\n",
              "      <td>000AA</td>\n",
              "      <td>2018</td>\n",
              "      <td>1545</td>\n",
              "      <td>38</td>\n",
              "    </tr>\n",
              "    <tr>\n",
              "      <th>...</th>\n",
              "      <td>...</td>\n",
              "      <td>...</td>\n",
              "      <td>...</td>\n",
              "      <td>...</td>\n",
              "    </tr>\n",
              "    <tr>\n",
              "      <th>211904</th>\n",
              "      <td>RS508</td>\n",
              "      <td>2020</td>\n",
              "      <td>1689</td>\n",
              "      <td>38</td>\n",
              "    </tr>\n",
              "    <tr>\n",
              "      <th>211905</th>\n",
              "      <td>RS508</td>\n",
              "      <td>2013</td>\n",
              "      <td>1266</td>\n",
              "      <td>38</td>\n",
              "    </tr>\n",
              "    <tr>\n",
              "      <th>211906</th>\n",
              "      <td>RS508</td>\n",
              "      <td>2015</td>\n",
              "      <td>1366</td>\n",
              "      <td>38</td>\n",
              "    </tr>\n",
              "    <tr>\n",
              "      <th>211907</th>\n",
              "      <td>RS508</td>\n",
              "      <td>2019</td>\n",
              "      <td>1625</td>\n",
              "      <td>38</td>\n",
              "    </tr>\n",
              "    <tr>\n",
              "      <th>211908</th>\n",
              "      <td>RS508</td>\n",
              "      <td>0</td>\n",
              "      <td>1005</td>\n",
              "      <td>38</td>\n",
              "    </tr>\n",
              "  </tbody>\n",
              "</table>\n",
              "<p>211909 rows × 4 columns</p>\n",
              "</div>"
            ],
            "text/plain": [
              "        Placa año_fiscal monto_pagado concepto\n",
              "0       000AA       2017         1465       38\n",
              "1       000AA       2016         1408       38\n",
              "2       000AA       2014         1314       38\n",
              "3       000AA       2013         1266       38\n",
              "4       000AA       2018         1545       38\n",
              "...       ...        ...          ...      ...\n",
              "211904  RS508       2020         1689       38\n",
              "211905  RS508       2013         1266       38\n",
              "211906  RS508       2015         1366       38\n",
              "211907  RS508       2019         1625       38\n",
              "211908  RS508          0         1005       38\n",
              "\n",
              "[211909 rows x 4 columns]"
            ]
          },
          "metadata": {
            "tags": []
          },
          "execution_count": 16
        }
      ]
    },
    {
      "cell_type": "markdown",
      "metadata": {
        "id": "PjO2Z1NIgb6s"
      },
      "source": [
        "Clasificando por placas:\r\n",
        "\r\n",
        "\r\n",
        "*   6 dígitos: Autos particulares. Ejemplo: A00AAA\r\n",
        "*   5 dígitos:\r\n",
        "  * Autos antiguos: AA000\r\n",
        "  * Autos para personas con discapacidad: 000AA\r\n",
        "\r\n"
      ]
    },
    {
      "cell_type": "code",
      "metadata": {
        "colab": {
          "base_uri": "https://localhost:8080/",
          "height": 419
        },
        "id": "dn9OhnwCgbC0",
        "outputId": "7509393c-dd46-4dd2-cc0a-60d27f833dc1"
      },
      "source": [
        "placas = pd.DataFrame(np.unique(df['Placa']))\r\n",
        "placas.reset_index(drop=True, inplace=True)\r\n",
        "placas"
      ],
      "execution_count": null,
      "outputs": [
        {
          "output_type": "execute_result",
          "data": {
            "text/html": [
              "<div>\n",
              "<style scoped>\n",
              "    .dataframe tbody tr th:only-of-type {\n",
              "        vertical-align: middle;\n",
              "    }\n",
              "\n",
              "    .dataframe tbody tr th {\n",
              "        vertical-align: top;\n",
              "    }\n",
              "\n",
              "    .dataframe thead th {\n",
              "        text-align: right;\n",
              "    }\n",
              "</style>\n",
              "<table border=\"1\" class=\"dataframe\">\n",
              "  <thead>\n",
              "    <tr style=\"text-align: right;\">\n",
              "      <th></th>\n",
              "      <th>0</th>\n",
              "    </tr>\n",
              "  </thead>\n",
              "  <tbody>\n",
              "    <tr>\n",
              "      <th>0</th>\n",
              "      <td>000AA</td>\n",
              "    </tr>\n",
              "    <tr>\n",
              "      <th>1</th>\n",
              "      <td>000AB</td>\n",
              "    </tr>\n",
              "    <tr>\n",
              "      <th>2</th>\n",
              "      <td>000AD</td>\n",
              "    </tr>\n",
              "    <tr>\n",
              "      <th>3</th>\n",
              "      <td>000AE</td>\n",
              "    </tr>\n",
              "    <tr>\n",
              "      <th>4</th>\n",
              "      <td>000AF</td>\n",
              "    </tr>\n",
              "    <tr>\n",
              "      <th>...</th>\n",
              "      <td>...</td>\n",
              "    </tr>\n",
              "    <tr>\n",
              "      <th>28190</th>\n",
              "      <td>RS504</td>\n",
              "    </tr>\n",
              "    <tr>\n",
              "      <th>28191</th>\n",
              "      <td>RS505</td>\n",
              "    </tr>\n",
              "    <tr>\n",
              "      <th>28192</th>\n",
              "      <td>RS506</td>\n",
              "    </tr>\n",
              "    <tr>\n",
              "      <th>28193</th>\n",
              "      <td>RS507</td>\n",
              "    </tr>\n",
              "    <tr>\n",
              "      <th>28194</th>\n",
              "      <td>RS508</td>\n",
              "    </tr>\n",
              "  </tbody>\n",
              "</table>\n",
              "<p>28195 rows × 1 columns</p>\n",
              "</div>"
            ],
            "text/plain": [
              "           0\n",
              "0      000AA\n",
              "1      000AB\n",
              "2      000AD\n",
              "3      000AE\n",
              "4      000AF\n",
              "...      ...\n",
              "28190  RS504\n",
              "28191  RS505\n",
              "28192  RS506\n",
              "28193  RS507\n",
              "28194  RS508\n",
              "\n",
              "[28195 rows x 1 columns]"
            ]
          },
          "metadata": {
            "tags": []
          },
          "execution_count": 17
        }
      ]
    },
    {
      "cell_type": "code",
      "metadata": {
        "id": "p9VekRNz4rAx"
      },
      "source": [
        "tipo_vehiculo = list()"
      ],
      "execution_count": null,
      "outputs": []
    },
    {
      "cell_type": "code",
      "metadata": {
        "id": "Maqgkh2W28W8"
      },
      "source": [
        "for pla in placas[0]:\r\n",
        "  if len(pla) != 6:\r\n",
        "    if re.findall('[0-9]', pla[0]):\r\n",
        "      tipo_vehiculo.append('Discapacidad') #Placas con 5 caracteres y comiencen con numero es Discapacidad\r\n",
        "    else:\r\n",
        "      tipo_vehiculo.append('Antiguo') #Placas con 5 caracteres y comiencen con letra es Antiguo\r\n",
        "  else:\r\n",
        "    tipo_vehiculo.append('Particular') # Placas con 6 caracteres es Particular"
      ],
      "execution_count": null,
      "outputs": []
    },
    {
      "cell_type": "code",
      "metadata": {
        "id": "wWHtclcf_xhc"
      },
      "source": [
        "tipo_vehiculo = pd.DataFrame(tipo_vehiculo)"
      ],
      "execution_count": null,
      "outputs": []
    },
    {
      "cell_type": "code",
      "metadata": {
        "colab": {
          "base_uri": "https://localhost:8080/",
          "height": 419
        },
        "id": "O_BAQS1JAFuI",
        "outputId": "c832b2a9-e7d8-4f80-e6db-ee814e7a8cb2"
      },
      "source": [
        "placas = pd.concat([placas.reset_index(drop=True), tipo_vehiculo], axis=1)\r\n",
        "placas.columns = ['Placa', 'tipo']\r\n",
        "placas"
      ],
      "execution_count": null,
      "outputs": [
        {
          "output_type": "execute_result",
          "data": {
            "text/html": [
              "<div>\n",
              "<style scoped>\n",
              "    .dataframe tbody tr th:only-of-type {\n",
              "        vertical-align: middle;\n",
              "    }\n",
              "\n",
              "    .dataframe tbody tr th {\n",
              "        vertical-align: top;\n",
              "    }\n",
              "\n",
              "    .dataframe thead th {\n",
              "        text-align: right;\n",
              "    }\n",
              "</style>\n",
              "<table border=\"1\" class=\"dataframe\">\n",
              "  <thead>\n",
              "    <tr style=\"text-align: right;\">\n",
              "      <th></th>\n",
              "      <th>Placa</th>\n",
              "      <th>tipo</th>\n",
              "    </tr>\n",
              "  </thead>\n",
              "  <tbody>\n",
              "    <tr>\n",
              "      <th>0</th>\n",
              "      <td>000AA</td>\n",
              "      <td>Discapacidad</td>\n",
              "    </tr>\n",
              "    <tr>\n",
              "      <th>1</th>\n",
              "      <td>000AB</td>\n",
              "      <td>Discapacidad</td>\n",
              "    </tr>\n",
              "    <tr>\n",
              "      <th>2</th>\n",
              "      <td>000AD</td>\n",
              "      <td>Discapacidad</td>\n",
              "    </tr>\n",
              "    <tr>\n",
              "      <th>3</th>\n",
              "      <td>000AE</td>\n",
              "      <td>Discapacidad</td>\n",
              "    </tr>\n",
              "    <tr>\n",
              "      <th>4</th>\n",
              "      <td>000AF</td>\n",
              "      <td>Discapacidad</td>\n",
              "    </tr>\n",
              "    <tr>\n",
              "      <th>...</th>\n",
              "      <td>...</td>\n",
              "      <td>...</td>\n",
              "    </tr>\n",
              "    <tr>\n",
              "      <th>28190</th>\n",
              "      <td>RS504</td>\n",
              "      <td>Antiguo</td>\n",
              "    </tr>\n",
              "    <tr>\n",
              "      <th>28191</th>\n",
              "      <td>RS505</td>\n",
              "      <td>Antiguo</td>\n",
              "    </tr>\n",
              "    <tr>\n",
              "      <th>28192</th>\n",
              "      <td>RS506</td>\n",
              "      <td>Antiguo</td>\n",
              "    </tr>\n",
              "    <tr>\n",
              "      <th>28193</th>\n",
              "      <td>RS507</td>\n",
              "      <td>Antiguo</td>\n",
              "    </tr>\n",
              "    <tr>\n",
              "      <th>28194</th>\n",
              "      <td>RS508</td>\n",
              "      <td>Antiguo</td>\n",
              "    </tr>\n",
              "  </tbody>\n",
              "</table>\n",
              "<p>28195 rows × 2 columns</p>\n",
              "</div>"
            ],
            "text/plain": [
              "       Placa          tipo\n",
              "0      000AA  Discapacidad\n",
              "1      000AB  Discapacidad\n",
              "2      000AD  Discapacidad\n",
              "3      000AE  Discapacidad\n",
              "4      000AF  Discapacidad\n",
              "...      ...           ...\n",
              "28190  RS504       Antiguo\n",
              "28191  RS505       Antiguo\n",
              "28192  RS506       Antiguo\n",
              "28193  RS507       Antiguo\n",
              "28194  RS508       Antiguo\n",
              "\n",
              "[28195 rows x 2 columns]"
            ]
          },
          "metadata": {
            "tags": []
          },
          "execution_count": 21
        }
      ]
    },
    {
      "cell_type": "code",
      "metadata": {
        "colab": {
          "base_uri": "https://localhost:8080/",
          "height": 419
        },
        "id": "Gu6RqpFyBmAu",
        "outputId": "0f692eee-8fd8-4db5-f5b5-a743bc3bd502"
      },
      "source": [
        "placas = placas.join(df.set_index('Placa'), on = 'Placa')\r\n",
        "placas"
      ],
      "execution_count": null,
      "outputs": [
        {
          "output_type": "execute_result",
          "data": {
            "text/html": [
              "<div>\n",
              "<style scoped>\n",
              "    .dataframe tbody tr th:only-of-type {\n",
              "        vertical-align: middle;\n",
              "    }\n",
              "\n",
              "    .dataframe tbody tr th {\n",
              "        vertical-align: top;\n",
              "    }\n",
              "\n",
              "    .dataframe thead th {\n",
              "        text-align: right;\n",
              "    }\n",
              "</style>\n",
              "<table border=\"1\" class=\"dataframe\">\n",
              "  <thead>\n",
              "    <tr style=\"text-align: right;\">\n",
              "      <th></th>\n",
              "      <th>Placa</th>\n",
              "      <th>tipo</th>\n",
              "      <th>año_fiscal</th>\n",
              "      <th>monto_pagado</th>\n",
              "      <th>concepto</th>\n",
              "    </tr>\n",
              "  </thead>\n",
              "  <tbody>\n",
              "    <tr>\n",
              "      <th>0</th>\n",
              "      <td>000AA</td>\n",
              "      <td>Discapacidad</td>\n",
              "      <td>2017</td>\n",
              "      <td>1465</td>\n",
              "      <td>38</td>\n",
              "    </tr>\n",
              "    <tr>\n",
              "      <th>0</th>\n",
              "      <td>000AA</td>\n",
              "      <td>Discapacidad</td>\n",
              "      <td>2016</td>\n",
              "      <td>1408</td>\n",
              "      <td>38</td>\n",
              "    </tr>\n",
              "    <tr>\n",
              "      <th>0</th>\n",
              "      <td>000AA</td>\n",
              "      <td>Discapacidad</td>\n",
              "      <td>2014</td>\n",
              "      <td>1314</td>\n",
              "      <td>38</td>\n",
              "    </tr>\n",
              "    <tr>\n",
              "      <th>0</th>\n",
              "      <td>000AA</td>\n",
              "      <td>Discapacidad</td>\n",
              "      <td>2013</td>\n",
              "      <td>1266</td>\n",
              "      <td>38</td>\n",
              "    </tr>\n",
              "    <tr>\n",
              "      <th>0</th>\n",
              "      <td>000AA</td>\n",
              "      <td>Discapacidad</td>\n",
              "      <td>2018</td>\n",
              "      <td>1545</td>\n",
              "      <td>38</td>\n",
              "    </tr>\n",
              "    <tr>\n",
              "      <th>...</th>\n",
              "      <td>...</td>\n",
              "      <td>...</td>\n",
              "      <td>...</td>\n",
              "      <td>...</td>\n",
              "      <td>...</td>\n",
              "    </tr>\n",
              "    <tr>\n",
              "      <th>28194</th>\n",
              "      <td>RS508</td>\n",
              "      <td>Antiguo</td>\n",
              "      <td>2020</td>\n",
              "      <td>1689</td>\n",
              "      <td>38</td>\n",
              "    </tr>\n",
              "    <tr>\n",
              "      <th>28194</th>\n",
              "      <td>RS508</td>\n",
              "      <td>Antiguo</td>\n",
              "      <td>2013</td>\n",
              "      <td>1266</td>\n",
              "      <td>38</td>\n",
              "    </tr>\n",
              "    <tr>\n",
              "      <th>28194</th>\n",
              "      <td>RS508</td>\n",
              "      <td>Antiguo</td>\n",
              "      <td>2015</td>\n",
              "      <td>1366</td>\n",
              "      <td>38</td>\n",
              "    </tr>\n",
              "    <tr>\n",
              "      <th>28194</th>\n",
              "      <td>RS508</td>\n",
              "      <td>Antiguo</td>\n",
              "      <td>2019</td>\n",
              "      <td>1625</td>\n",
              "      <td>38</td>\n",
              "    </tr>\n",
              "    <tr>\n",
              "      <th>28194</th>\n",
              "      <td>RS508</td>\n",
              "      <td>Antiguo</td>\n",
              "      <td>0</td>\n",
              "      <td>1005</td>\n",
              "      <td>38</td>\n",
              "    </tr>\n",
              "  </tbody>\n",
              "</table>\n",
              "<p>211909 rows × 5 columns</p>\n",
              "</div>"
            ],
            "text/plain": [
              "       Placa          tipo año_fiscal monto_pagado concepto\n",
              "0      000AA  Discapacidad       2017         1465       38\n",
              "0      000AA  Discapacidad       2016         1408       38\n",
              "0      000AA  Discapacidad       2014         1314       38\n",
              "0      000AA  Discapacidad       2013         1266       38\n",
              "0      000AA  Discapacidad       2018         1545       38\n",
              "...      ...           ...        ...          ...      ...\n",
              "28194  RS508       Antiguo       2020         1689       38\n",
              "28194  RS508       Antiguo       2013         1266       38\n",
              "28194  RS508       Antiguo       2015         1366       38\n",
              "28194  RS508       Antiguo       2019         1625       38\n",
              "28194  RS508       Antiguo          0         1005       38\n",
              "\n",
              "[211909 rows x 5 columns]"
            ]
          },
          "metadata": {
            "tags": []
          },
          "execution_count": 22
        }
      ]
    },
    {
      "cell_type": "code",
      "metadata": {
        "colab": {
          "base_uri": "https://localhost:8080/",
          "height": 419
        },
        "id": "WHYzdFztCvji",
        "outputId": "8304dba4-0e0f-440f-dc81-739241d71a95"
      },
      "source": [
        "placas = placas.sort_values(['Placa', 'año_fiscal'])\r\n",
        "placas = placas.reset_index(drop=True)\r\n",
        "placas"
      ],
      "execution_count": null,
      "outputs": [
        {
          "output_type": "execute_result",
          "data": {
            "text/html": [
              "<div>\n",
              "<style scoped>\n",
              "    .dataframe tbody tr th:only-of-type {\n",
              "        vertical-align: middle;\n",
              "    }\n",
              "\n",
              "    .dataframe tbody tr th {\n",
              "        vertical-align: top;\n",
              "    }\n",
              "\n",
              "    .dataframe thead th {\n",
              "        text-align: right;\n",
              "    }\n",
              "</style>\n",
              "<table border=\"1\" class=\"dataframe\">\n",
              "  <thead>\n",
              "    <tr style=\"text-align: right;\">\n",
              "      <th></th>\n",
              "      <th>Placa</th>\n",
              "      <th>tipo</th>\n",
              "      <th>año_fiscal</th>\n",
              "      <th>monto_pagado</th>\n",
              "      <th>concepto</th>\n",
              "    </tr>\n",
              "  </thead>\n",
              "  <tbody>\n",
              "    <tr>\n",
              "      <th>0</th>\n",
              "      <td>000AA</td>\n",
              "      <td>Discapacidad</td>\n",
              "      <td>2013</td>\n",
              "      <td>1266</td>\n",
              "      <td>38</td>\n",
              "    </tr>\n",
              "    <tr>\n",
              "      <th>1</th>\n",
              "      <td>000AA</td>\n",
              "      <td>Discapacidad</td>\n",
              "      <td>2013</td>\n",
              "      <td>1266</td>\n",
              "      <td>38</td>\n",
              "    </tr>\n",
              "    <tr>\n",
              "      <th>2</th>\n",
              "      <td>000AA</td>\n",
              "      <td>Discapacidad</td>\n",
              "      <td>2014</td>\n",
              "      <td>1314</td>\n",
              "      <td>38</td>\n",
              "    </tr>\n",
              "    <tr>\n",
              "      <th>3</th>\n",
              "      <td>000AA</td>\n",
              "      <td>Discapacidad</td>\n",
              "      <td>2015</td>\n",
              "      <td>1366</td>\n",
              "      <td>38</td>\n",
              "    </tr>\n",
              "    <tr>\n",
              "      <th>4</th>\n",
              "      <td>000AA</td>\n",
              "      <td>Discapacidad</td>\n",
              "      <td>2016</td>\n",
              "      <td>1408</td>\n",
              "      <td>38</td>\n",
              "    </tr>\n",
              "    <tr>\n",
              "      <th>...</th>\n",
              "      <td>...</td>\n",
              "      <td>...</td>\n",
              "      <td>...</td>\n",
              "      <td>...</td>\n",
              "      <td>...</td>\n",
              "    </tr>\n",
              "    <tr>\n",
              "      <th>211904</th>\n",
              "      <td>RS508</td>\n",
              "      <td>Antiguo</td>\n",
              "      <td>2016</td>\n",
              "      <td>1408</td>\n",
              "      <td>38</td>\n",
              "    </tr>\n",
              "    <tr>\n",
              "      <th>211905</th>\n",
              "      <td>RS508</td>\n",
              "      <td>Antiguo</td>\n",
              "      <td>2017</td>\n",
              "      <td>1465</td>\n",
              "      <td>38</td>\n",
              "    </tr>\n",
              "    <tr>\n",
              "      <th>211906</th>\n",
              "      <td>RS508</td>\n",
              "      <td>Antiguo</td>\n",
              "      <td>2018</td>\n",
              "      <td>1545</td>\n",
              "      <td>38</td>\n",
              "    </tr>\n",
              "    <tr>\n",
              "      <th>211907</th>\n",
              "      <td>RS508</td>\n",
              "      <td>Antiguo</td>\n",
              "      <td>2019</td>\n",
              "      <td>1625</td>\n",
              "      <td>38</td>\n",
              "    </tr>\n",
              "    <tr>\n",
              "      <th>211908</th>\n",
              "      <td>RS508</td>\n",
              "      <td>Antiguo</td>\n",
              "      <td>2020</td>\n",
              "      <td>1689</td>\n",
              "      <td>38</td>\n",
              "    </tr>\n",
              "  </tbody>\n",
              "</table>\n",
              "<p>211909 rows × 5 columns</p>\n",
              "</div>"
            ],
            "text/plain": [
              "        Placa          tipo año_fiscal monto_pagado concepto\n",
              "0       000AA  Discapacidad       2013         1266       38\n",
              "1       000AA  Discapacidad       2013         1266       38\n",
              "2       000AA  Discapacidad       2014         1314       38\n",
              "3       000AA  Discapacidad       2015         1366       38\n",
              "4       000AA  Discapacidad       2016         1408       38\n",
              "...       ...           ...        ...          ...      ...\n",
              "211904  RS508       Antiguo       2016         1408       38\n",
              "211905  RS508       Antiguo       2017         1465       38\n",
              "211906  RS508       Antiguo       2018         1545       38\n",
              "211907  RS508       Antiguo       2019         1625       38\n",
              "211908  RS508       Antiguo       2020         1689       38\n",
              "\n",
              "[211909 rows x 5 columns]"
            ]
          },
          "metadata": {
            "tags": []
          },
          "execution_count": 23
        }
      ]
    },
    {
      "cell_type": "code",
      "metadata": {
        "id": "PLCdObirGDxc"
      },
      "source": [
        "placas = placas.drop_duplicates()"
      ],
      "execution_count": null,
      "outputs": []
    },
    {
      "cell_type": "markdown",
      "metadata": {
        "id": "3uUX7WFnH6vx"
      },
      "source": [
        "Se solicita que se quiten los años que tienen ceros, después de la previsualización "
      ]
    },
    {
      "cell_type": "code",
      "metadata": {
        "colab": {
          "base_uri": "https://localhost:8080/",
          "height": 419
        },
        "id": "tVVp5DFUERbO",
        "outputId": "24215ec1-63c3-47f4-9792-9b15207e9b69"
      },
      "source": [
        "placas = placas.replace('0', np.nan)\r\n",
        "placas = placas.dropna(axis = 0, how = 'any')\r\n",
        "placas"
      ],
      "execution_count": null,
      "outputs": [
        {
          "output_type": "execute_result",
          "data": {
            "text/html": [
              "<div>\n",
              "<style scoped>\n",
              "    .dataframe tbody tr th:only-of-type {\n",
              "        vertical-align: middle;\n",
              "    }\n",
              "\n",
              "    .dataframe tbody tr th {\n",
              "        vertical-align: top;\n",
              "    }\n",
              "\n",
              "    .dataframe thead th {\n",
              "        text-align: right;\n",
              "    }\n",
              "</style>\n",
              "<table border=\"1\" class=\"dataframe\">\n",
              "  <thead>\n",
              "    <tr style=\"text-align: right;\">\n",
              "      <th></th>\n",
              "      <th>Placa</th>\n",
              "      <th>tipo</th>\n",
              "      <th>año_fiscal</th>\n",
              "      <th>monto_pagado</th>\n",
              "      <th>concepto</th>\n",
              "    </tr>\n",
              "  </thead>\n",
              "  <tbody>\n",
              "    <tr>\n",
              "      <th>0</th>\n",
              "      <td>000AA</td>\n",
              "      <td>Discapacidad</td>\n",
              "      <td>2013</td>\n",
              "      <td>1266</td>\n",
              "      <td>38</td>\n",
              "    </tr>\n",
              "    <tr>\n",
              "      <th>2</th>\n",
              "      <td>000AA</td>\n",
              "      <td>Discapacidad</td>\n",
              "      <td>2014</td>\n",
              "      <td>1314</td>\n",
              "      <td>38</td>\n",
              "    </tr>\n",
              "    <tr>\n",
              "      <th>3</th>\n",
              "      <td>000AA</td>\n",
              "      <td>Discapacidad</td>\n",
              "      <td>2015</td>\n",
              "      <td>1366</td>\n",
              "      <td>38</td>\n",
              "    </tr>\n",
              "    <tr>\n",
              "      <th>4</th>\n",
              "      <td>000AA</td>\n",
              "      <td>Discapacidad</td>\n",
              "      <td>2016</td>\n",
              "      <td>1408</td>\n",
              "      <td>38</td>\n",
              "    </tr>\n",
              "    <tr>\n",
              "      <th>5</th>\n",
              "      <td>000AA</td>\n",
              "      <td>Discapacidad</td>\n",
              "      <td>2017</td>\n",
              "      <td>1465</td>\n",
              "      <td>38</td>\n",
              "    </tr>\n",
              "    <tr>\n",
              "      <th>...</th>\n",
              "      <td>...</td>\n",
              "      <td>...</td>\n",
              "      <td>...</td>\n",
              "      <td>...</td>\n",
              "      <td>...</td>\n",
              "    </tr>\n",
              "    <tr>\n",
              "      <th>211904</th>\n",
              "      <td>RS508</td>\n",
              "      <td>Antiguo</td>\n",
              "      <td>2016</td>\n",
              "      <td>1408</td>\n",
              "      <td>38</td>\n",
              "    </tr>\n",
              "    <tr>\n",
              "      <th>211905</th>\n",
              "      <td>RS508</td>\n",
              "      <td>Antiguo</td>\n",
              "      <td>2017</td>\n",
              "      <td>1465</td>\n",
              "      <td>38</td>\n",
              "    </tr>\n",
              "    <tr>\n",
              "      <th>211906</th>\n",
              "      <td>RS508</td>\n",
              "      <td>Antiguo</td>\n",
              "      <td>2018</td>\n",
              "      <td>1545</td>\n",
              "      <td>38</td>\n",
              "    </tr>\n",
              "    <tr>\n",
              "      <th>211907</th>\n",
              "      <td>RS508</td>\n",
              "      <td>Antiguo</td>\n",
              "      <td>2019</td>\n",
              "      <td>1625</td>\n",
              "      <td>38</td>\n",
              "    </tr>\n",
              "    <tr>\n",
              "      <th>211908</th>\n",
              "      <td>RS508</td>\n",
              "      <td>Antiguo</td>\n",
              "      <td>2020</td>\n",
              "      <td>1689</td>\n",
              "      <td>38</td>\n",
              "    </tr>\n",
              "  </tbody>\n",
              "</table>\n",
              "<p>184642 rows × 5 columns</p>\n",
              "</div>"
            ],
            "text/plain": [
              "        Placa          tipo año_fiscal monto_pagado concepto\n",
              "0       000AA  Discapacidad       2013         1266       38\n",
              "2       000AA  Discapacidad       2014         1314       38\n",
              "3       000AA  Discapacidad       2015         1366       38\n",
              "4       000AA  Discapacidad       2016         1408       38\n",
              "5       000AA  Discapacidad       2017         1465       38\n",
              "...       ...           ...        ...          ...      ...\n",
              "211904  RS508       Antiguo       2016         1408       38\n",
              "211905  RS508       Antiguo       2017         1465       38\n",
              "211906  RS508       Antiguo       2018         1545       38\n",
              "211907  RS508       Antiguo       2019         1625       38\n",
              "211908  RS508       Antiguo       2020         1689       38\n",
              "\n",
              "[184642 rows x 5 columns]"
            ]
          },
          "metadata": {
            "tags": []
          },
          "execution_count": 25
        }
      ]
    },
    {
      "cell_type": "code",
      "metadata": {
        "colab": {
          "base_uri": "https://localhost:8080/"
        },
        "id": "qMJXcZeoIjEV",
        "outputId": "f3fb8c0e-83fc-44a3-8aa4-6ca59ae99cf2"
      },
      "source": [
        "placas.dtypes"
      ],
      "execution_count": null,
      "outputs": [
        {
          "output_type": "execute_result",
          "data": {
            "text/plain": [
              "Placa           object\n",
              "tipo            object\n",
              "año_fiscal      object\n",
              "monto_pagado    object\n",
              "concepto        object\n",
              "dtype: object"
            ]
          },
          "metadata": {
            "tags": []
          },
          "execution_count": 26
        }
      ]
    },
    {
      "cell_type": "code",
      "metadata": {
        "id": "myxMOr_ASLjj"
      },
      "source": [
        "placas['monto_pagado'] = placas['monto_pagado'].astype(float)\r\n",
        "placas['año_fiscal'] = placas['año_fiscal'].astype(int)"
      ],
      "execution_count": null,
      "outputs": []
    },
    {
      "cell_type": "code",
      "metadata": {
        "colab": {
          "base_uri": "https://localhost:8080/",
          "height": 419
        },
        "id": "zIIK8TONg8Ty",
        "outputId": "cb527f31-dc15-4e47-f6ee-41d66eaccd7a"
      },
      "source": [
        "# Hasta aquí, se exporta para poder tener un previo\r\n",
        "placas.to_csv('/content/drive/MyDrive/Data_Tenencias/salidacero.csv', index = False)\r\n",
        "placas"
      ],
      "execution_count": null,
      "outputs": [
        {
          "output_type": "execute_result",
          "data": {
            "text/html": [
              "<div>\n",
              "<style scoped>\n",
              "    .dataframe tbody tr th:only-of-type {\n",
              "        vertical-align: middle;\n",
              "    }\n",
              "\n",
              "    .dataframe tbody tr th {\n",
              "        vertical-align: top;\n",
              "    }\n",
              "\n",
              "    .dataframe thead th {\n",
              "        text-align: right;\n",
              "    }\n",
              "</style>\n",
              "<table border=\"1\" class=\"dataframe\">\n",
              "  <thead>\n",
              "    <tr style=\"text-align: right;\">\n",
              "      <th></th>\n",
              "      <th>Placa</th>\n",
              "      <th>tipo</th>\n",
              "      <th>año_fiscal</th>\n",
              "      <th>monto_pagado</th>\n",
              "      <th>concepto</th>\n",
              "    </tr>\n",
              "  </thead>\n",
              "  <tbody>\n",
              "    <tr>\n",
              "      <th>0</th>\n",
              "      <td>000AA</td>\n",
              "      <td>Discapacidad</td>\n",
              "      <td>2013</td>\n",
              "      <td>1266.0</td>\n",
              "      <td>38</td>\n",
              "    </tr>\n",
              "    <tr>\n",
              "      <th>2</th>\n",
              "      <td>000AA</td>\n",
              "      <td>Discapacidad</td>\n",
              "      <td>2014</td>\n",
              "      <td>1314.0</td>\n",
              "      <td>38</td>\n",
              "    </tr>\n",
              "    <tr>\n",
              "      <th>3</th>\n",
              "      <td>000AA</td>\n",
              "      <td>Discapacidad</td>\n",
              "      <td>2015</td>\n",
              "      <td>1366.0</td>\n",
              "      <td>38</td>\n",
              "    </tr>\n",
              "    <tr>\n",
              "      <th>4</th>\n",
              "      <td>000AA</td>\n",
              "      <td>Discapacidad</td>\n",
              "      <td>2016</td>\n",
              "      <td>1408.0</td>\n",
              "      <td>38</td>\n",
              "    </tr>\n",
              "    <tr>\n",
              "      <th>5</th>\n",
              "      <td>000AA</td>\n",
              "      <td>Discapacidad</td>\n",
              "      <td>2017</td>\n",
              "      <td>1465.0</td>\n",
              "      <td>38</td>\n",
              "    </tr>\n",
              "    <tr>\n",
              "      <th>...</th>\n",
              "      <td>...</td>\n",
              "      <td>...</td>\n",
              "      <td>...</td>\n",
              "      <td>...</td>\n",
              "      <td>...</td>\n",
              "    </tr>\n",
              "    <tr>\n",
              "      <th>211904</th>\n",
              "      <td>RS508</td>\n",
              "      <td>Antiguo</td>\n",
              "      <td>2016</td>\n",
              "      <td>1408.0</td>\n",
              "      <td>38</td>\n",
              "    </tr>\n",
              "    <tr>\n",
              "      <th>211905</th>\n",
              "      <td>RS508</td>\n",
              "      <td>Antiguo</td>\n",
              "      <td>2017</td>\n",
              "      <td>1465.0</td>\n",
              "      <td>38</td>\n",
              "    </tr>\n",
              "    <tr>\n",
              "      <th>211906</th>\n",
              "      <td>RS508</td>\n",
              "      <td>Antiguo</td>\n",
              "      <td>2018</td>\n",
              "      <td>1545.0</td>\n",
              "      <td>38</td>\n",
              "    </tr>\n",
              "    <tr>\n",
              "      <th>211907</th>\n",
              "      <td>RS508</td>\n",
              "      <td>Antiguo</td>\n",
              "      <td>2019</td>\n",
              "      <td>1625.0</td>\n",
              "      <td>38</td>\n",
              "    </tr>\n",
              "    <tr>\n",
              "      <th>211908</th>\n",
              "      <td>RS508</td>\n",
              "      <td>Antiguo</td>\n",
              "      <td>2020</td>\n",
              "      <td>1689.0</td>\n",
              "      <td>38</td>\n",
              "    </tr>\n",
              "  </tbody>\n",
              "</table>\n",
              "<p>184642 rows × 5 columns</p>\n",
              "</div>"
            ],
            "text/plain": [
              "        Placa          tipo  año_fiscal  monto_pagado concepto\n",
              "0       000AA  Discapacidad        2013        1266.0       38\n",
              "2       000AA  Discapacidad        2014        1314.0       38\n",
              "3       000AA  Discapacidad        2015        1366.0       38\n",
              "4       000AA  Discapacidad        2016        1408.0       38\n",
              "5       000AA  Discapacidad        2017        1465.0       38\n",
              "...       ...           ...         ...           ...      ...\n",
              "211904  RS508       Antiguo        2016        1408.0       38\n",
              "211905  RS508       Antiguo        2017        1465.0       38\n",
              "211906  RS508       Antiguo        2018        1545.0       38\n",
              "211907  RS508       Antiguo        2019        1625.0       38\n",
              "211908  RS508       Antiguo        2020        1689.0       38\n",
              "\n",
              "[184642 rows x 5 columns]"
            ]
          },
          "metadata": {
            "tags": []
          },
          "execution_count": 28
        }
      ]
    },
    {
      "cell_type": "code",
      "metadata": {
        "colab": {
          "base_uri": "https://localhost:8080/",
          "height": 483
        },
        "id": "rpir4fWdqPsm",
        "outputId": "f5210c15-80af-46b2-cc4a-91cc202b8688"
      },
      "source": [
        " acumulado = placas.groupby('año_fiscal').sum()    #¿Cuánto dinero es acumulado después del pago de este impuesto por año?\r\n",
        " acumulado"
      ],
      "execution_count": null,
      "outputs": [
        {
          "output_type": "execute_result",
          "data": {
            "text/html": [
              "<div>\n",
              "<style scoped>\n",
              "    .dataframe tbody tr th:only-of-type {\n",
              "        vertical-align: middle;\n",
              "    }\n",
              "\n",
              "    .dataframe tbody tr th {\n",
              "        vertical-align: top;\n",
              "    }\n",
              "\n",
              "    .dataframe thead th {\n",
              "        text-align: right;\n",
              "    }\n",
              "</style>\n",
              "<table border=\"1\" class=\"dataframe\">\n",
              "  <thead>\n",
              "    <tr style=\"text-align: right;\">\n",
              "      <th></th>\n",
              "      <th>monto_pagado</th>\n",
              "    </tr>\n",
              "    <tr>\n",
              "      <th>año_fiscal</th>\n",
              "      <th></th>\n",
              "    </tr>\n",
              "  </thead>\n",
              "  <tbody>\n",
              "    <tr>\n",
              "      <th>2008</th>\n",
              "      <td>1020682.00</td>\n",
              "    </tr>\n",
              "    <tr>\n",
              "      <th>2009</th>\n",
              "      <td>1629165.00</td>\n",
              "    </tr>\n",
              "    <tr>\n",
              "      <th>2010</th>\n",
              "      <td>803832.00</td>\n",
              "    </tr>\n",
              "    <tr>\n",
              "      <th>2011</th>\n",
              "      <td>1957793.00</td>\n",
              "    </tr>\n",
              "    <tr>\n",
              "      <th>2012</th>\n",
              "      <td>457897.00</td>\n",
              "    </tr>\n",
              "    <tr>\n",
              "      <th>2013</th>\n",
              "      <td>32133460.00</td>\n",
              "    </tr>\n",
              "    <tr>\n",
              "      <th>2014</th>\n",
              "      <td>33544159.00</td>\n",
              "    </tr>\n",
              "    <tr>\n",
              "      <th>2015</th>\n",
              "      <td>32410505.46</td>\n",
              "    </tr>\n",
              "    <tr>\n",
              "      <th>2016</th>\n",
              "      <td>31165153.00</td>\n",
              "    </tr>\n",
              "    <tr>\n",
              "      <th>2017</th>\n",
              "      <td>34509941.00</td>\n",
              "    </tr>\n",
              "    <tr>\n",
              "      <th>2018</th>\n",
              "      <td>33638920.11</td>\n",
              "    </tr>\n",
              "    <tr>\n",
              "      <th>2019</th>\n",
              "      <td>32792367.60</td>\n",
              "    </tr>\n",
              "    <tr>\n",
              "      <th>2020</th>\n",
              "      <td>31791033.00</td>\n",
              "    </tr>\n",
              "  </tbody>\n",
              "</table>\n",
              "</div>"
            ],
            "text/plain": [
              "            monto_pagado\n",
              "año_fiscal              \n",
              "2008          1020682.00\n",
              "2009          1629165.00\n",
              "2010           803832.00\n",
              "2011          1957793.00\n",
              "2012           457897.00\n",
              "2013         32133460.00\n",
              "2014         33544159.00\n",
              "2015         32410505.46\n",
              "2016         31165153.00\n",
              "2017         34509941.00\n",
              "2018         33638920.11\n",
              "2019         32792367.60\n",
              "2020         31791033.00"
            ]
          },
          "metadata": {
            "tags": []
          },
          "execution_count": 41
        }
      ]
    },
    {
      "cell_type": "code",
      "metadata": {
        "colab": {
          "base_uri": "https://localhost:8080/",
          "height": 483
        },
        "id": "q5Wo8fjuQkM7",
        "outputId": "913fc424-74c1-4b72-894e-a94d84a3cd20"
      },
      "source": [
        "diferencia = acumulado['monto_pagado'] - acumulado['monto_pagado'].shift(1)   #¿Cuál es la diferencia de ingresos obtenidos por cada periodo anual?\r\n",
        "diferencia = pd.DataFrame(diferencia)\r\n",
        "diferencia"
      ],
      "execution_count": null,
      "outputs": [
        {
          "output_type": "execute_result",
          "data": {
            "text/html": [
              "<div>\n",
              "<style scoped>\n",
              "    .dataframe tbody tr th:only-of-type {\n",
              "        vertical-align: middle;\n",
              "    }\n",
              "\n",
              "    .dataframe tbody tr th {\n",
              "        vertical-align: top;\n",
              "    }\n",
              "\n",
              "    .dataframe thead th {\n",
              "        text-align: right;\n",
              "    }\n",
              "</style>\n",
              "<table border=\"1\" class=\"dataframe\">\n",
              "  <thead>\n",
              "    <tr style=\"text-align: right;\">\n",
              "      <th></th>\n",
              "      <th>monto_pagado</th>\n",
              "    </tr>\n",
              "    <tr>\n",
              "      <th>año_fiscal</th>\n",
              "      <th></th>\n",
              "    </tr>\n",
              "  </thead>\n",
              "  <tbody>\n",
              "    <tr>\n",
              "      <th>2008</th>\n",
              "      <td>NaN</td>\n",
              "    </tr>\n",
              "    <tr>\n",
              "      <th>2009</th>\n",
              "      <td>608483.00</td>\n",
              "    </tr>\n",
              "    <tr>\n",
              "      <th>2010</th>\n",
              "      <td>-825333.00</td>\n",
              "    </tr>\n",
              "    <tr>\n",
              "      <th>2011</th>\n",
              "      <td>1153961.00</td>\n",
              "    </tr>\n",
              "    <tr>\n",
              "      <th>2012</th>\n",
              "      <td>-1499896.00</td>\n",
              "    </tr>\n",
              "    <tr>\n",
              "      <th>2013</th>\n",
              "      <td>31675563.00</td>\n",
              "    </tr>\n",
              "    <tr>\n",
              "      <th>2014</th>\n",
              "      <td>1410699.00</td>\n",
              "    </tr>\n",
              "    <tr>\n",
              "      <th>2015</th>\n",
              "      <td>-1133653.54</td>\n",
              "    </tr>\n",
              "    <tr>\n",
              "      <th>2016</th>\n",
              "      <td>-1245352.46</td>\n",
              "    </tr>\n",
              "    <tr>\n",
              "      <th>2017</th>\n",
              "      <td>3344788.00</td>\n",
              "    </tr>\n",
              "    <tr>\n",
              "      <th>2018</th>\n",
              "      <td>-871020.89</td>\n",
              "    </tr>\n",
              "    <tr>\n",
              "      <th>2019</th>\n",
              "      <td>-846552.51</td>\n",
              "    </tr>\n",
              "    <tr>\n",
              "      <th>2020</th>\n",
              "      <td>-1001334.60</td>\n",
              "    </tr>\n",
              "  </tbody>\n",
              "</table>\n",
              "</div>"
            ],
            "text/plain": [
              "            monto_pagado\n",
              "año_fiscal              \n",
              "2008                 NaN\n",
              "2009           608483.00\n",
              "2010          -825333.00\n",
              "2011          1153961.00\n",
              "2012         -1499896.00\n",
              "2013         31675563.00\n",
              "2014          1410699.00\n",
              "2015         -1133653.54\n",
              "2016         -1245352.46\n",
              "2017          3344788.00\n",
              "2018          -871020.89\n",
              "2019          -846552.51\n",
              "2020         -1001334.60"
            ]
          },
          "metadata": {
            "tags": []
          },
          "execution_count": 47
        }
      ]
    },
    {
      "cell_type": "code",
      "metadata": {
        "colab": {
          "base_uri": "https://localhost:8080/",
          "height": 173
        },
        "id": "UT_rReOKP_bP",
        "outputId": "00bc6d84-bd7d-4158-ea6e-2cee1ed17c85"
      },
      "source": [
        "placas.filter(['tipo','Placa']).groupby('tipo').count()    #¿Cuál es el tipo de placa de cada vehículo?"
      ],
      "execution_count": null,
      "outputs": [
        {
          "output_type": "execute_result",
          "data": {
            "text/html": [
              "<div>\n",
              "<style scoped>\n",
              "    .dataframe tbody tr th:only-of-type {\n",
              "        vertical-align: middle;\n",
              "    }\n",
              "\n",
              "    .dataframe tbody tr th {\n",
              "        vertical-align: top;\n",
              "    }\n",
              "\n",
              "    .dataframe thead th {\n",
              "        text-align: right;\n",
              "    }\n",
              "</style>\n",
              "<table border=\"1\" class=\"dataframe\">\n",
              "  <thead>\n",
              "    <tr style=\"text-align: right;\">\n",
              "      <th></th>\n",
              "      <th>Placa</th>\n",
              "    </tr>\n",
              "    <tr>\n",
              "      <th>tipo</th>\n",
              "      <th></th>\n",
              "    </tr>\n",
              "  </thead>\n",
              "  <tbody>\n",
              "    <tr>\n",
              "      <th>Antiguo</th>\n",
              "      <td>18352</td>\n",
              "    </tr>\n",
              "    <tr>\n",
              "      <th>Discapacidad</th>\n",
              "      <td>35091</td>\n",
              "    </tr>\n",
              "    <tr>\n",
              "      <th>Particular</th>\n",
              "      <td>131199</td>\n",
              "    </tr>\n",
              "  </tbody>\n",
              "</table>\n",
              "</div>"
            ],
            "text/plain": [
              "               Placa\n",
              "tipo                \n",
              "Antiguo        18352\n",
              "Discapacidad   35091\n",
              "Particular    131199"
            ]
          },
          "metadata": {
            "tags": []
          },
          "execution_count": 40
        }
      ]
    }
  ]
}